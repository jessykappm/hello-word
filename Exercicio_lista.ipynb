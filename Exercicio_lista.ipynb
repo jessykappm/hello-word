{
  "nbformat": 4,
  "nbformat_minor": 0,
  "metadata": {
    "colab": {
      "name": "Exercicio lista.ipynb",
      "provenance": [],
      "collapsed_sections": [],
      "authorship_tag": "ABX9TyNeAk+n+I3A0RktLDLuE6jT",
      "include_colab_link": true
    },
    "kernelspec": {
      "name": "python3",
      "display_name": "Python 3"
    }
  },
  "cells": [
    {
      "cell_type": "markdown",
      "metadata": {
        "id": "view-in-github",
        "colab_type": "text"
      },
      "source": [
        "<a href=\"https://colab.research.google.com/github/jessykappm/hello-word/blob/master/Exercicio_lista.ipynb\" target=\"_parent\"><img src=\"https://colab.research.google.com/assets/colab-badge.svg\" alt=\"Open In Colab\"/></a>"
      ]
    },
    {
      "cell_type": "code",
      "metadata": {
        "id": "Kbjxfn7x_pRD",
        "colab_type": "code",
        "colab": {
          "base_uri": "https://localhost:8080/",
          "height": 34
        },
        "outputId": "535702eb-72b5-4a10-9f8e-b916db31a5e7"
      },
      "source": [
        "# -*- coding: utf-8 -*-\n",
        "\n",
        "## Escreva um programa que ordene uma lista numérica com três elementos.\n",
        "\n",
        "lista = [125,30,56]\n",
        "print(sorted(lista))\n"
      ],
      "execution_count": 2,
      "outputs": [
        {
          "output_type": "stream",
          "text": [
            "[30, 56, 125]\n"
          ],
          "name": "stdout"
        }
      ]
    }
  ]
}