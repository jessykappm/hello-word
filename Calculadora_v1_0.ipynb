{
  "nbformat": 4,
  "nbformat_minor": 0,
  "metadata": {
    "colab": {
      "name": "Calculadora v1.0.ipynb",
      "provenance": [],
      "authorship_tag": "ABX9TyO0tg0HyFVe3u60eWH/w/oS",
      "include_colab_link": true
    },
    "kernelspec": {
      "name": "python3",
      "display_name": "Python 3"
    }
  },
  "cells": [
    {
      "cell_type": "markdown",
      "metadata": {
        "id": "view-in-github",
        "colab_type": "text"
      },
      "source": [
        "<a href=\"https://colab.research.google.com/github/jessykappm/hello-word/blob/master/Calculadora_v1_0.ipynb\" target=\"_parent\"><img src=\"https://colab.research.google.com/assets/colab-badge.svg\" alt=\"Open In Colab\"/></a>"
      ]
    },
    {
      "cell_type": "code",
      "metadata": {
        "id": "Q1o7J1TZdd9h",
        "colab_type": "code",
        "colab": {}
      },
      "source": [
        "# -*- coding: utf-8 -*-\n",
        "\n",
        "print(\"Calculadora v1.0\")\n",
        "\n",
        "sair = False\n",
        "\n",
        "while sair == False:\n",
        "\n",
        "\tnum1 = input(\"Digite o primeiro número: \")\n",
        "\tnum1 = int(num1)\n",
        "\toperador = input(\"Digite o operador: \")\n",
        "\tnum2 = input(\"Digite o segundo número: \")\n",
        "\tnum2 = int(num2)\n",
        "\n",
        "\tif operador == \"+\":\n",
        "\t\toperacao = num1 + num2\n",
        "\n",
        "\tif operador == \"-\":\n",
        "\t\toperacao = num1 - num2\n",
        "\n",
        "\tif operador == \"/\":\n",
        "\t\toperacao = num1 / num2\n",
        "\n",
        "\tif operador == \"*\":\n",
        "\t\toperacao = num1 * num2\n",
        "\n",
        "\tprint(\"Resultado: \")\n",
        "\tprint(operacao)\n",
        "\n",
        "\tteste = input(\"Deseja sair? (n/s): \")\n",
        "\tif teste == \"s\":\n",
        "\t\tsair = True\n"
      ],
      "execution_count": null,
      "outputs": []
    }
  ]
}