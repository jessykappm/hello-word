{
  "nbformat": 4,
  "nbformat_minor": 0,
  "metadata": {
    "colab": {
      "name": "Equação.ipynb",
      "provenance": [],
      "collapsed_sections": [],
      "authorship_tag": "ABX9TyPDj2rD78lBDGvJpZauGH4b",
      "include_colab_link": true
    },
    "kernelspec": {
      "name": "python3",
      "display_name": "Python 3"
    }
  },
  "cells": [
    {
      "cell_type": "markdown",
      "metadata": {
        "id": "view-in-github",
        "colab_type": "text"
      },
      "source": [
        "<a href=\"https://colab.research.google.com/github/jessykappm/hello-word/blob/master/Equa%C3%A7%C3%A3o.ipynb\" target=\"_parent\"><img src=\"https://colab.research.google.com/assets/colab-badge.svg\" alt=\"Open In Colab\"/></a>"
      ]
    },
    {
      "cell_type": "code",
      "metadata": {
        "id": "vfkY4Dd312TZ",
        "colab_type": "code",
        "colab": {
          "base_uri": "https://localhost:8080/",
          "height": 84
        },
        "outputId": "54434de9-55af-45f6-8d1e-68353f3d8037"
      },
      "source": [
        "## Escreva um programa que resolva uma equação de segundo grau.   \n",
        "\n",
        "from math import sqrt\n",
        "a = int(input(\"Digite o valor de A:\" ))\n",
        "b = int(input(\"Digite o valor de B:\" ))\n",
        "c = int(input(\"Digite o valor de C:\" ))\n",
        "\n",
        "delta = b**2 - 4*a*c\n",
        "raiz_delta = sqrt(delta)\n",
        "\n",
        "if raiz_delta < 0:\n",
        "  print(\"Delta negativo\")\n",
        "\n",
        "else:\n",
        "  x1 = (-b + raiz_delta)/2*a\n",
        "  x2 = (-b + raiz_delta)/2*a\n",
        "  print(\"As raizes são\", x1, \"e\", x2)"
      ],
      "execution_count": 5,
      "outputs": [
        {
          "output_type": "stream",
          "text": [
            "Digite o valor de A:1\n",
            "Digite o valor de B:7\n",
            "Digite o valor de C:2\n",
            "As raizes são -0.29843788128357573 e -0.29843788128357573\n"
          ],
          "name": "stdout"
        }
      ]
    }
  ]
}