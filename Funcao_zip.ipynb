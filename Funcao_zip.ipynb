{
  "nbformat": 4,
  "nbformat_minor": 0,
  "metadata": {
    "colab": {
      "name": "Funcao zip.ipynb",
      "provenance": [],
      "collapsed_sections": [],
      "authorship_tag": "ABX9TyPqUwINiSG/R7r5h80CRPac",
      "include_colab_link": true
    },
    "kernelspec": {
      "name": "python3",
      "display_name": "Python 3"
    }
  },
  "cells": [
    {
      "cell_type": "markdown",
      "metadata": {
        "id": "view-in-github",
        "colab_type": "text"
      },
      "source": [
        "<a href=\"https://colab.research.google.com/github/jessykappm/hello-word/blob/master/Funcao_zip.ipynb\" target=\"_parent\"><img src=\"https://colab.research.google.com/assets/colab-badge.svg\" alt=\"Open In Colab\"/></a>"
      ]
    },
    {
      "cell_type": "code",
      "metadata": {
        "id": "9B4QWr02OV2O",
        "colab_type": "code",
        "colab": {
          "base_uri": "https://localhost:8080/",
          "height": 118
        },
        "outputId": "a12a08e7-6b83-4820-edd1-52f6a40fd005"
      },
      "source": [
        "# zip\n",
        "\n",
        "lista1 = [1,2,3,4,5,6]\n",
        "lista2 = [\"casa\", \"gato\", \"bola\", \"bolo\", \"cadeado\", \"livro\"]\n",
        "\n",
        "for numero, nome in zip(lista1, lista2):\n",
        "  print(numero, nome)\n",
        "\n"
      ],
      "execution_count": 2,
      "outputs": [
        {
          "output_type": "stream",
          "text": [
            "1 casa\n",
            "2 gato\n",
            "3 bola\n",
            "4 bolo\n",
            "5 cadeado\n",
            "6 livro\n"
          ],
          "name": "stdout"
        }
      ]
    }
  ]
}