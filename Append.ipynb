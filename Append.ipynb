{
  "nbformat": 4,
  "nbformat_minor": 0,
  "metadata": {
    "colab": {
      "name": "Append.ipynb",
      "provenance": [],
      "collapsed_sections": [],
      "authorship_tag": "ABX9TyNtKyTlzP55MeVfs+wCOXYZ",
      "include_colab_link": true
    },
    "kernelspec": {
      "name": "python3",
      "display_name": "Python 3"
    }
  },
  "cells": [
    {
      "cell_type": "markdown",
      "metadata": {
        "id": "view-in-github",
        "colab_type": "text"
      },
      "source": [
        "<a href=\"https://colab.research.google.com/github/jessykappm/hello-word/blob/master/Append.ipynb\" target=\"_parent\"><img src=\"https://colab.research.google.com/assets/colab-badge.svg\" alt=\"Open In Colab\"/></a>"
      ]
    },
    {
      "cell_type": "code",
      "metadata": {
        "id": "k7J46MRelfpX",
        "colab_type": "code",
        "colab": {
          "base_uri": "https://localhost:8080/",
          "height": 67
        },
        "outputId": "652fa486-eee0-439f-c17c-f669f363bd07"
      },
      "source": [
        "## append (Usando a função append para adicionar itens às listas)\n",
        "\n",
        "# -*- coding: utf-8 -*-\n",
        "\n",
        "minha_lista1 = [\"Laranja\", \"Banana\", \"Maçã\",\"Melancia\"]\n",
        "minha_lista2 = [\"Ovos\", \"Leite\", \"Manteiga\", \"Fermento\"]\n",
        "minha_lista3 = [\"Sabonete\", \"Pasta de dente\", \"Papel higiênico\"]\n",
        "\n",
        "minha_lista1.append(\"Limão\")\n",
        "minha_lista2.append(\"Água\")\n",
        "minha_lista3.append(\"Desinfetante\")\n",
        "\n",
        "print(minha_lista1)\n",
        "print(minha_lista2)\n",
        "print(minha_lista3)"
      ],
      "execution_count": 3,
      "outputs": [
        {
          "output_type": "stream",
          "text": [
            "['Laranja', 'Banana', 'Maçã', 'Melancia', 'Limão']\n",
            "['Ovos', 'Leite', 'Manteiga', 'Fermento', 'Água']\n",
            "['Sabonete', 'Pasta de dente', 'Papel higiênico', 'Desinfetante']\n"
          ],
          "name": "stdout"
        }
      ]
    }
  ]
}