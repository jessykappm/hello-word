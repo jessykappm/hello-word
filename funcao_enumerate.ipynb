{
  "nbformat": 4,
  "nbformat_minor": 0,
  "metadata": {
    "colab": {
      "name": "funcao enumerate.ipynb",
      "provenance": [],
      "collapsed_sections": [],
      "authorship_tag": "ABX9TyPPrx0UL7OEBB/tEuvrBgNp",
      "include_colab_link": true
    },
    "kernelspec": {
      "name": "python3",
      "display_name": "Python 3"
    }
  },
  "cells": [
    {
      "cell_type": "markdown",
      "metadata": {
        "id": "view-in-github",
        "colab_type": "text"
      },
      "source": [
        "<a href=\"https://colab.research.google.com/github/jessykappm/hello-word/blob/master/funcao_enumerate.ipynb\" target=\"_parent\"><img src=\"https://colab.research.google.com/assets/colab-badge.svg\" alt=\"Open In Colab\"/></a>"
      ]
    },
    {
      "cell_type": "code",
      "metadata": {
        "id": "g9u9LwGEJTT2",
        "colab_type": "code",
        "colab": {
          "base_uri": "https://localhost:8080/",
          "height": 84
        },
        "outputId": "56cfcd01-d1f7-4170-dfc6-24727ba18cce"
      },
      "source": [
        "# Função enumerate\n",
        "\n",
        "lista = [\"morango\", \"animal\", \"sorvete\", \"cadeira\"]\n",
        "for i, nome in enumerate(lista):\n",
        "  print(i, nome)\n"
      ],
      "execution_count": 2,
      "outputs": [
        {
          "output_type": "stream",
          "text": [
            "0 morango\n",
            "1 animal\n",
            "2 sorvete\n",
            "3 cadeira\n"
          ],
          "name": "stdout"
        }
      ]
    }
  ]
}