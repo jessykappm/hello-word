{
  "nbformat": 4,
  "nbformat_minor": 0,
  "metadata": {
    "colab": {
      "name": "Exercicio_idade.ipynb",
      "provenance": [],
      "authorship_tag": "ABX9TyMJHDf+hXN+Akxh2GGpNGtL",
      "include_colab_link": true
    },
    "kernelspec": {
      "name": "python3",
      "display_name": "Python 3"
    }
  },
  "cells": [
    {
      "cell_type": "markdown",
      "metadata": {
        "id": "view-in-github",
        "colab_type": "text"
      },
      "source": [
        "<a href=\"https://colab.research.google.com/github/jessykappm/hello-word/blob/master/Exercicio_idade.ipynb\" target=\"_parent\"><img src=\"https://colab.research.google.com/assets/colab-badge.svg\" alt=\"Open In Colab\"/></a>"
      ]
    },
    {
      "cell_type": "code",
      "metadata": {
        "id": "DIw9lAPsxDjf",
        "colab_type": "code",
        "colab": {
          "base_uri": "https://localhost:8080/",
          "height": 50
        },
        "outputId": "7531fbdf-630d-43f7-e0fc-1a7a72809cf0"
      },
      "source": [
        "# -*- coding: utf-8 -*-\n",
        "\n",
        "## Exercício Idade\n",
        "\n",
        "idade = int(input(\"Digite sua idade: \"))\n",
        "if idade >= 18:\n",
        "    print(\"Maior de idade\") \n",
        "elif idade < 18:\n",
        "    print(\"Menor de idade\")"
      ],
      "execution_count": 9,
      "outputs": [
        {
          "output_type": "stream",
          "text": [
            "Digite sua idade: 20\n",
            "Maior de idade\n"
          ],
          "name": "stdout"
        }
      ]
    }
  ]
}