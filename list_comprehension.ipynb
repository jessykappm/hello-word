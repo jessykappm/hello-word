{
  "nbformat": 4,
  "nbformat_minor": 0,
  "metadata": {
    "colab": {
      "name": "list comprehension.ipynb",
      "provenance": [],
      "collapsed_sections": [],
      "authorship_tag": "ABX9TyNuBe1brWLLjvCaMQNYSh7y",
      "include_colab_link": true
    },
    "kernelspec": {
      "name": "python3",
      "display_name": "Python 3"
    }
  },
  "cells": [
    {
      "cell_type": "markdown",
      "metadata": {
        "id": "view-in-github",
        "colab_type": "text"
      },
      "source": [
        "<a href=\"https://colab.research.google.com/github/jessykappm/hello-word/blob/master/list_comprehension.ipynb\" target=\"_parent\"><img src=\"https://colab.research.google.com/assets/colab-badge.svg\" alt=\"Open In Colab\"/></a>"
      ]
    },
    {
      "cell_type": "code",
      "metadata": {
        "id": "IJQxrHiVF4xX",
        "colab_type": "code",
        "colab": {
          "base_uri": "https://localhost:8080/",
          "height": 50
        },
        "outputId": "e65f5ed1-aa1c-43c3-9ba0-e63d778484bf"
      },
      "source": [
        "# list comprehension\n",
        "\n",
        "x = [1,2,3,4,5]\n",
        "y = []\n",
        "\n",
        "for i in x:\n",
        "  y.append(i**2)\n",
        "\n",
        "print(x)\n",
        "print(y)\n",
        "\n",
        "## Outra forma de obter o mesmo resultado: \n",
        "## list comprehension\n",
        "## x = [1,2,3,4,5]\n",
        "## y = [i**2 for i in x]\n",
        "## print(\"list comprehension\")\n",
        "## print(x)\n",
        "## print (y)"
      ],
      "execution_count": 3,
      "outputs": [
        {
          "output_type": "stream",
          "text": [
            "[1, 2, 3, 4, 5]\n",
            "[1, 4, 9, 16, 25]\n"
          ],
          "name": "stdout"
        }
      ]
    }
  ]
}