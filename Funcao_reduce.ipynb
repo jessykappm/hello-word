{
  "nbformat": 4,
  "nbformat_minor": 0,
  "metadata": {
    "colab": {
      "name": "Funcao reduce.ipynb",
      "provenance": [],
      "collapsed_sections": [],
      "authorship_tag": "ABX9TyO5v4jd4yh2taGekhPGWNWd",
      "include_colab_link": true
    },
    "kernelspec": {
      "name": "python3",
      "display_name": "Python 3"
    }
  },
  "cells": [
    {
      "cell_type": "markdown",
      "metadata": {
        "id": "view-in-github",
        "colab_type": "text"
      },
      "source": [
        "<a href=\"https://colab.research.google.com/github/jessykappm/hello-word/blob/master/Funcao_reduce.ipynb\" target=\"_parent\"><img src=\"https://colab.research.google.com/assets/colab-badge.svg\" alt=\"Open In Colab\"/></a>"
      ]
    },
    {
      "cell_type": "code",
      "metadata": {
        "id": "9TjtVSEYM_el",
        "colab_type": "code",
        "colab": {
          "base_uri": "https://localhost:8080/",
          "height": 34
        },
        "outputId": "b8dbff0f-cfb9-4cf3-c44f-03620e86dfaa"
      },
      "source": [
        "# Função reduce\n",
        "\n",
        "from functools import reduce\n",
        "\n",
        "def soma(x, y):\n",
        "  return x+y\n",
        "\n",
        "lista = [29,12,5,64,9]\n",
        "\n",
        "soma = reduce(soma, lista)\n",
        "\n",
        "print(soma)\n",
        "\n"
      ],
      "execution_count": 1,
      "outputs": [
        {
          "output_type": "stream",
          "text": [
            "119\n"
          ],
          "name": "stdout"
        }
      ]
    }
  ]
}