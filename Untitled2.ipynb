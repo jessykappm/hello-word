{
  "nbformat": 4,
  "nbformat_minor": 0,
  "metadata": {
    "colab": {
      "name": "Untitled2.ipynb",
      "provenance": [],
      "authorship_tag": "ABX9TyPL9QYn43k53iWnz4cPg3yP",
      "include_colab_link": true
    },
    "kernelspec": {
      "name": "python3",
      "display_name": "Python 3"
    }
  },
  "cells": [
    {
      "cell_type": "markdown",
      "metadata": {
        "id": "view-in-github",
        "colab_type": "text"
      },
      "source": [
        "<a href=\"https://colab.research.google.com/github/jessykappm/hello-word/blob/master/Untitled2.ipynb\" target=\"_parent\"><img src=\"https://colab.research.google.com/assets/colab-badge.svg\" alt=\"Open In Colab\"/></a>"
      ]
    },
    {
      "cell_type": "code",
      "metadata": {
        "id": "V_Y7CeXrbsvx",
        "colab_type": "code",
        "colab": {
          "base_uri": "https://localhost:8080/",
          "height": 34
        },
        "outputId": "3d3f2d58-36d6-442c-833b-b68a2e12de66"
      },
      "source": [
        "## Selection sort\n",
        "\n",
        "lista = [350,932,562,10,25,3,49]\n",
        "\n",
        "for i in range(len(lista)):\n",
        "\n",
        "  menor = i\n",
        "\n",
        "  for j in range(i+1, len(lista)): #A função range retorna uma lista no intervalo definido.\n",
        "    if lista[j] < lista[menor]:\n",
        "      menor = j\n",
        "  \n",
        "  if lista[i] != lista[menor]:\n",
        "    aux = lista[i] #A função aux é guardar aquele primeiro valor contido na declaração anterior.\n",
        "    lista[i] = lista[menor]\n",
        "    lista[menor] = aux\n",
        "\n",
        "print (lista)"
      ],
      "execution_count": 3,
      "outputs": [
        {
          "output_type": "stream",
          "text": [
            "[3, 10, 25, 49, 350, 562, 932]\n"
          ],
          "name": "stdout"
        }
      ]
    }
  ]
}