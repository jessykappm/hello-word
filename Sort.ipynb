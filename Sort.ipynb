{
  "nbformat": 4,
  "nbformat_minor": 0,
  "metadata": {
    "colab": {
      "name": "Sort.ipynb",
      "provenance": [],
      "collapsed_sections": [],
      "authorship_tag": "ABX9TyNT33U5SewYZdQkSlmNPOE+",
      "include_colab_link": true
    },
    "kernelspec": {
      "name": "python3",
      "display_name": "Python 3"
    }
  },
  "cells": [
    {
      "cell_type": "markdown",
      "metadata": {
        "id": "view-in-github",
        "colab_type": "text"
      },
      "source": [
        "<a href=\"https://colab.research.google.com/github/jessykappm/hello-word/blob/master/Sort.ipynb\" target=\"_parent\"><img src=\"https://colab.research.google.com/assets/colab-badge.svg\" alt=\"Open In Colab\"/></a>"
      ]
    },
    {
      "cell_type": "code",
      "metadata": {
        "id": "nHYpjApFpDSb",
        "colab_type": "code",
        "colab": {
          "base_uri": "https://localhost:8080/",
          "height": 34
        },
        "outputId": "1df29885-ecc7-4605-b295-39008998ef6a"
      },
      "source": [
        "# Ordenando listas\n",
        "\n",
        "lista = [562,12,952,74,32,23,64]\n",
        "lista2 = [\"clips\", \"papel\", \"tesoura\", \"borracha\"]\n",
        "\n",
        "lista = sorted(lista) #ou lista.sort()\n",
        "lista2.sort()\n",
        "\n",
        "print(lista2)"
      ],
      "execution_count": 14,
      "outputs": [
        {
          "output_type": "stream",
          "text": [
            "['borracha', 'clips', 'papel', 'tesoura']\n"
          ],
          "name": "stdout"
        }
      ]
    }
  ]
}