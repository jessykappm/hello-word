{
  "nbformat": 4,
  "nbformat_minor": 0,
  "metadata": {
    "colab": {
      "name": "Exercicio sinal.ipynb",
      "provenance": [],
      "collapsed_sections": [],
      "authorship_tag": "ABX9TyP8/3izuRZU4QUEOTuLiyon",
      "include_colab_link": true
    },
    "kernelspec": {
      "name": "python3",
      "display_name": "Python 3"
    }
  },
  "cells": [
    {
      "cell_type": "markdown",
      "metadata": {
        "id": "view-in-github",
        "colab_type": "text"
      },
      "source": [
        "<a href=\"https://colab.research.google.com/github/jessykappm/hello-word/blob/master/Exercicio_sinal.ipynb\" target=\"_parent\"><img src=\"https://colab.research.google.com/assets/colab-badge.svg\" alt=\"Open In Colab\"/></a>"
      ]
    },
    {
      "cell_type": "code",
      "metadata": {
        "id": "5N9FXqf8BNQI",
        "colab_type": "code",
        "colab": {
          "base_uri": "https://localhost:8080/",
          "height": 84
        },
        "outputId": "ff641a4b-dbb4-4d5b-a6d4-f2dc12a0c50c"
      },
      "source": [
        "# -*- coding: utf-8 -*-\n",
        "\n",
        "## Escreva um programa que receba dois números e um sinal, e faça a operação matemática definida pelo sinal. \n",
        "\n",
        "n1 = int(input(\"Digite o primeiro número: \"))\n",
        "sinal = input(\"Digite o sinal: \")\n",
        "n2 = int(input(\"DIgite o segundo número: \"))\n",
        "\n",
        "if sinal == \"+\":\n",
        "  op = n1 + n2\n",
        "\n",
        "elif sinal == \"-\":\n",
        "  op = n1 - n2\n",
        "\n",
        "elif sinal == \"/\":\n",
        "  op = n1 / n2\n",
        "\n",
        "elif sinal == \"*\":\n",
        "  op = n1 * n2\n",
        "\n",
        "else:\n",
        "  print(\"Sinal inválido\")\n",
        "\n",
        "print(op)\n"
      ],
      "execution_count": 1,
      "outputs": [
        {
          "output_type": "stream",
          "text": [
            "Digite o primeiro número: 5\n",
            "Digite o sinal: *\n",
            "DIgite o segundo número: 2\n",
            "10\n"
          ],
          "name": "stdout"
        }
      ]
    }
  ]
}